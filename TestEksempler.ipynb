{
 "cells": [
  {
   "cell_type": "code",
   "execution_count": null,
   "metadata": {},
   "outputs": [],
   "source": []
  },
  {
   "cell_type": "code",
   "execution_count": 5,
   "metadata": {},
   "outputs": [
    {
     "name": "stdout",
     "output_type": "stream",
     "text": [
      "Collecting sklearn\n",
      "  Downloading sklearn-0.0.tar.gz (1.1 kB)\n",
      "Collecting scikit-learn\n",
      "  Downloading scikit_learn-0.23.2-cp36-cp36m-manylinux1_x86_64.whl (6.8 MB)\n",
      "\u001b[K     |████████████████████████████████| 6.8 MB 2.7 MB/s eta 0:00:01\n",
      "\u001b[?25hRequirement already satisfied: numpy>=1.13.3 in /usr/local/lib/python3.6/dist-packages (from scikit-learn->sklearn) (1.19.4)\n",
      "Collecting joblib>=0.11\n",
      "  Downloading joblib-0.17.0-py3-none-any.whl (301 kB)\n",
      "\u001b[K     |████████████████████████████████| 301 kB 7.3 MB/s eta 0:00:01\n",
      "\u001b[?25hCollecting scipy>=0.19.1\n",
      "  Downloading scipy-1.5.4-cp36-cp36m-manylinux1_x86_64.whl (25.9 MB)\n",
      "\u001b[K     |████████████████████████████████| 25.9 MB 7.5 MB/s eta 0:00:01    |▊                               | 614 kB 6.1 MB/s eta 0:00:05\n",
      "\u001b[?25hCollecting threadpoolctl>=2.0.0\n",
      "  Downloading threadpoolctl-2.1.0-py3-none-any.whl (12 kB)\n",
      "Building wheels for collected packages: sklearn\n",
      "  Building wheel for sklearn (setup.py) ... \u001b[?25ldone\n",
      "\u001b[?25h  Created wheel for sklearn: filename=sklearn-0.0-py2.py3-none-any.whl size=1316 sha256=c00b6a26c2567a48e7eedae6c2ce5d1a0bd32a56bf63340bb9a9d4712b341982\n",
      "  Stored in directory: /root/.cache/pip/wheels/23/9d/42/5ec745cbbb17517000a53cecc49d6a865450d1f5cb16dc8a9c\n",
      "Successfully built sklearn\n",
      "Installing collected packages: joblib, scipy, threadpoolctl, scikit-learn, sklearn\n",
      "Successfully installed joblib-0.17.0 scikit-learn-0.23.2 scipy-1.5.4 sklearn-0.0 threadpoolctl-2.1.0\n"
     ]
    }
   ],
   "source": [
    "!pip install sklearn"
   ]
  },
  {
   "cell_type": "code",
   "execution_count": 7,
   "metadata": {},
   "outputs": [],
   "source": [
    "from numpy import array\n",
    "from tensorflow.keras.preprocessing.text import one_hot\n",
    "from tensorflow.keras.preprocessing.sequence import pad_sequences\n",
    "from tensorflow.keras.models import Sequential\n",
    "from tensorflow.keras.layers import Activation, Dropout, Dense\n",
    "from tensorflow.keras.layers import Flatten, LSTM\n",
    "from tensorflow.keras.layers import GlobalMaxPooling1D\n",
    "from tensorflow.keras.models import Model\n",
    "from tensorflow.keras.layers import Embedding\n",
    "from sklearn.model_selection import train_test_split\n",
    "from tensorflow.keras.preprocessing.text import Tokenizer\n",
    "from tensorflow.keras.layers import Input\n",
    "from tensorflow.keras.layers import Concatenate\n",
    "from tensorflow.keras.layers import Bidirectional\n",
    "\n",
    "import pandas as pd\n",
    "import numpy as np\n",
    "import re\n",
    "\n",
    "import matplotlib.pyplot as plt"
   ]
  },
  {
   "cell_type": "code",
   "execution_count": 9,
   "metadata": {},
   "outputs": [
    {
     "name": "stdout",
     "output_type": "stream",
     "text": [
      "[1, 4, 7, 10, 13, 16, 19, 22, 25, 28, 31, 34, 37, 40, 43]\n",
      "[[2, 3], [5, 6], [8, 9], [11, 12], [14, 15], [17, 18], [20, 21], [23, 24], [26, 27], [29, 30], [32, 33], [35, 36], [38, 39], [41, 42], [44, 45]]\n"
     ]
    }
   ],
   "source": [
    "X = list()\n",
    "Y = list()\n",
    "X = [x+3 for x in range(-2, 43, 3)]\n",
    "\n",
    "for i in X:\n",
    "    output_vector = list()\n",
    "    output_vector.append(i+1)\n",
    "    output_vector.append(i+2)\n",
    "    Y.append(output_vector)\n",
    "\n",
    "print(X)\n",
    "print(Y)"
   ]
  },
  {
   "cell_type": "code",
   "execution_count": 13,
   "metadata": {},
   "outputs": [],
   "source": [
    "X = np.array(X).reshape(15, 1, 1)\n",
    "Y = np.array(Y)"
   ]
  },
  {
   "cell_type": "code",
   "execution_count": 15,
   "metadata": {},
   "outputs": [],
   "source": [
    "model = Sequential()\n",
    "model.add(LSTM(50, activation='relu', input_shape=(1, 1)))\n",
    "model.add(Dense(2))\n",
    "model.compile(optimizer='adam', loss='mse')"
   ]
  },
  {
   "cell_type": "code",
   "execution_count": 19,
   "metadata": {},
   "outputs": [
    {
     "name": "stdout",
     "output_type": "stream",
     "text": [
      "[[10.994789 11.99699 ]]\n"
     ]
    }
   ],
   "source": [
    "test_input = array([10])\n",
    "test_input = test_input.reshape((1, 1, 1))\n",
    "test_output = model.predict(test_input, verbose=0)\n",
    "print(test_output)"
   ]
  },
  {
   "cell_type": "markdown",
   "metadata": {},
   "source": [
    "### Eksempel many to many problems with one feature"
   ]
  },
  {
   "cell_type": "code",
   "execution_count": 20,
   "metadata": {},
   "outputs": [],
   "source": [
    "X = list()\n",
    "Y = list()\n",
    "X = [x for x in range(5, 301, 5)]\n",
    "Y = [y for y in range(20, 316, 5)]\n",
    "\n",
    "X = np.array(X).reshape(20, 3, 1)\n",
    "Y = np.array(Y).reshape(20, 3, 1)"
   ]
  },
  {
   "cell_type": "code",
   "execution_count": 34,
   "metadata": {},
   "outputs": [
    {
     "data": {
      "text/plain": [
       "(20, 3, 1)"
      ]
     },
     "execution_count": 34,
     "metadata": {},
     "output_type": "execute_result"
    }
   ],
   "source": [
    "X.shape"
   ]
  },
  {
   "cell_type": "code",
   "execution_count": 35,
   "metadata": {},
   "outputs": [
    {
     "data": {
      "text/plain": [
       "(20, 3, 1)"
      ]
     },
     "execution_count": 35,
     "metadata": {},
     "output_type": "execute_result"
    }
   ],
   "source": [
    "Y.shape"
   ]
  },
  {
   "cell_type": "code",
   "execution_count": 31,
   "metadata": {},
   "outputs": [
    {
     "name": "stdout",
     "output_type": "stream",
     "text": [
      "Model: \"sequential_5\"\n",
      "_________________________________________________________________\n",
      "Layer (type)                 Output Shape              Param #   \n",
      "=================================================================\n",
      "gru_1 (GRU)                  (None, 100)               30900     \n",
      "_________________________________________________________________\n",
      "repeat_vector_3 (RepeatVecto (None, 3, 100)            0         \n",
      "_________________________________________________________________\n",
      "gru_2 (GRU)                  (None, 3, 100)            60600     \n",
      "_________________________________________________________________\n",
      "time_distributed_3 (TimeDist (None, 3, 1)              101       \n",
      "=================================================================\n",
      "Total params: 91,601\n",
      "Trainable params: 91,601\n",
      "Non-trainable params: 0\n",
      "_________________________________________________________________\n",
      "None\n"
     ]
    }
   ],
   "source": [
    "from tensorflow.keras.layers import RepeatVector\n",
    "from tensorflow.keras.layers import GRU\n",
    "from tensorflow.keras.layers import TimeDistributed\n",
    "\n",
    "model = Sequential()\n",
    "\n",
    "# encoder layer\n",
    "model.add(GRU(100, activation='relu', input_shape=(3, 1)))\n",
    "\n",
    "# repeat vector\n",
    "model.add(RepeatVector(3))\n",
    "\n",
    "# decoder layer\n",
    "model.add(GRU(100, activation='relu', return_sequences=True))\n",
    "\n",
    "model.add(TimeDistributed(Dense(1)))\n",
    "model.compile(optimizer='adam', loss='mse')\n",
    "\n",
    "print(model.summary())"
   ]
  },
  {
   "cell_type": "code",
   "execution_count": 32,
   "metadata": {},
   "outputs": [
    {
     "name": "stdout",
     "output_type": "stream",
     "text": [
      "Epoch 1/100\n",
      "6/6 [==============================] - 3s 89ms/step - loss: 18272.7545 - val_loss: 55549.1602\n",
      "Epoch 2/100\n",
      "6/6 [==============================] - 0s 25ms/step - loss: 16179.9809 - val_loss: 37711.4805\n",
      "Epoch 3/100\n",
      "6/6 [==============================] - 0s 20ms/step - loss: 8070.0566 - val_loss: 14777.3438\n",
      "Epoch 4/100\n",
      "6/6 [==============================] - 0s 19ms/step - loss: 3988.2339 - val_loss: 6789.6538\n",
      "Epoch 5/100\n",
      "6/6 [==============================] - 0s 19ms/step - loss: 1377.9555 - val_loss: 5430.5493\n",
      "Epoch 6/100\n",
      "6/6 [==============================] - 0s 19ms/step - loss: 1256.2082 - val_loss: 2677.8354\n",
      "Epoch 7/100\n",
      "6/6 [==============================] - 0s 17ms/step - loss: 706.3486 - val_loss: 1930.9501\n",
      "Epoch 8/100\n",
      "6/6 [==============================] - 0s 18ms/step - loss: 431.0816 - val_loss: 1126.1967\n",
      "Epoch 9/100\n",
      "6/6 [==============================] - 0s 16ms/step - loss: 317.5962 - val_loss: 737.9561\n",
      "Epoch 10/100\n",
      "6/6 [==============================] - 0s 17ms/step - loss: 196.1324 - val_loss: 328.8074\n",
      "Epoch 11/100\n",
      "6/6 [==============================] - 0s 16ms/step - loss: 59.4624 - val_loss: 73.2905\n",
      "Epoch 12/100\n",
      "6/6 [==============================] - 0s 17ms/step - loss: 22.2746 - val_loss: 14.0857\n",
      "Epoch 13/100\n",
      "6/6 [==============================] - 0s 27ms/step - loss: 10.7563 - val_loss: 42.3811\n",
      "Epoch 14/100\n",
      "6/6 [==============================] - 0s 34ms/step - loss: 11.5012 - val_loss: 50.9365\n",
      "Epoch 15/100\n",
      "6/6 [==============================] - 0s 18ms/step - loss: 7.4612 - val_loss: 18.0856\n",
      "Epoch 16/100\n",
      "6/6 [==============================] - 0s 16ms/step - loss: 5.4927 - val_loss: 13.0828\n",
      "Epoch 17/100\n",
      "6/6 [==============================] - 0s 16ms/step - loss: 5.3604 - val_loss: 9.0634\n",
      "Epoch 18/100\n",
      "6/6 [==============================] - 0s 16ms/step - loss: 4.3867 - val_loss: 4.0018\n",
      "Epoch 19/100\n",
      "6/6 [==============================] - 0s 15ms/step - loss: 6.8319 - val_loss: 3.0728\n",
      "Epoch 20/100\n",
      "6/6 [==============================] - 0s 17ms/step - loss: 2.6072 - val_loss: 2.3693\n",
      "Epoch 21/100\n",
      "6/6 [==============================] - 0s 23ms/step - loss: 2.8307 - val_loss: 3.4868\n",
      "Epoch 22/100\n",
      "6/6 [==============================] - 0s 16ms/step - loss: 6.0437 - val_loss: 142.1460\n",
      "Epoch 23/100\n",
      "6/6 [==============================] - 0s 16ms/step - loss: 11.5671 - val_loss: 2.0619\n",
      "Epoch 24/100\n",
      "6/6 [==============================] - 0s 16ms/step - loss: 3.2623 - val_loss: 108.5861\n",
      "Epoch 25/100\n",
      "6/6 [==============================] - 0s 15ms/step - loss: 16.0073 - val_loss: 4.0013\n",
      "Epoch 26/100\n",
      "6/6 [==============================] - 0s 25ms/step - loss: 5.2120 - val_loss: 33.0547\n",
      "Epoch 27/100\n",
      "6/6 [==============================] - 0s 21ms/step - loss: 4.7954 - val_loss: 3.6292\n",
      "Epoch 28/100\n",
      "6/6 [==============================] - 0s 18ms/step - loss: 4.8901 - val_loss: 17.1660\n",
      "Epoch 29/100\n",
      "6/6 [==============================] - 0s 16ms/step - loss: 4.0742 - val_loss: 15.3300\n",
      "Epoch 30/100\n",
      "6/6 [==============================] - 0s 17ms/step - loss: 1.9236 - val_loss: 3.6272\n",
      "Epoch 31/100\n",
      "6/6 [==============================] - 0s 15ms/step - loss: 2.7497 - val_loss: 5.3904\n",
      "Epoch 32/100\n",
      "6/6 [==============================] - 0s 16ms/step - loss: 1.0171 - val_loss: 2.3621\n",
      "Epoch 33/100\n",
      "6/6 [==============================] - 0s 17ms/step - loss: 1.0775 - val_loss: 7.4117\n",
      "Epoch 34/100\n",
      "6/6 [==============================] - 0s 15ms/step - loss: 0.9452 - val_loss: 1.8650\n",
      "Epoch 35/100\n",
      "6/6 [==============================] - 0s 16ms/step - loss: 1.6231 - val_loss: 2.7862\n",
      "Epoch 36/100\n",
      "6/6 [==============================] - 0s 84ms/step - loss: 0.7839 - val_loss: 2.9636\n",
      "Epoch 37/100\n",
      "6/6 [==============================] - 0s 22ms/step - loss: 1.0629 - val_loss: 3.5897\n",
      "Epoch 38/100\n",
      "6/6 [==============================] - 0s 18ms/step - loss: 0.4643 - val_loss: 2.3745\n",
      "Epoch 39/100\n",
      "6/6 [==============================] - 0s 18ms/step - loss: 0.4235 - val_loss: 2.3515\n",
      "Epoch 40/100\n",
      "6/6 [==============================] - 0s 20ms/step - loss: 0.5522 - val_loss: 2.8371\n",
      "Epoch 41/100\n",
      "6/6 [==============================] - 0s 15ms/step - loss: 0.4593 - val_loss: 1.3302\n",
      "Epoch 42/100\n",
      "6/6 [==============================] - 0s 17ms/step - loss: 0.5420 - val_loss: 2.1735\n",
      "Epoch 43/100\n",
      "6/6 [==============================] - 0s 16ms/step - loss: 0.3726 - val_loss: 1.5537\n",
      "Epoch 44/100\n",
      "6/6 [==============================] - 0s 17ms/step - loss: 0.3645 - val_loss: 1.1839\n",
      "Epoch 45/100\n",
      "6/6 [==============================] - 0s 18ms/step - loss: 0.2618 - val_loss: 1.4269\n",
      "Epoch 46/100\n",
      "6/6 [==============================] - 0s 18ms/step - loss: 0.2747 - val_loss: 2.6114\n",
      "Epoch 47/100\n",
      "6/6 [==============================] - 0s 17ms/step - loss: 0.3560 - val_loss: 1.2946\n",
      "Epoch 48/100\n",
      "6/6 [==============================] - 0s 19ms/step - loss: 0.4464 - val_loss: 1.3720\n",
      "Epoch 49/100\n",
      "6/6 [==============================] - 0s 19ms/step - loss: 0.2501 - val_loss: 2.0190\n",
      "Epoch 50/100\n",
      "6/6 [==============================] - 0s 19ms/step - loss: 0.3057 - val_loss: 1.0434\n",
      "Epoch 51/100\n",
      "6/6 [==============================] - 0s 17ms/step - loss: 0.2521 - val_loss: 0.9677\n",
      "Epoch 52/100\n",
      "6/6 [==============================] - 0s 20ms/step - loss: 0.2841 - val_loss: 1.4804\n",
      "Epoch 53/100\n",
      "6/6 [==============================] - 0s 21ms/step - loss: 0.1943 - val_loss: 1.1561\n",
      "Epoch 54/100\n",
      "6/6 [==============================] - 0s 20ms/step - loss: 0.2412 - val_loss: 1.1378\n",
      "Epoch 55/100\n",
      "6/6 [==============================] - 0s 19ms/step - loss: 0.2684 - val_loss: 0.5895\n",
      "Epoch 56/100\n",
      "6/6 [==============================] - 0s 21ms/step - loss: 0.2118 - val_loss: 0.9360\n",
      "Epoch 57/100\n",
      "6/6 [==============================] - 0s 22ms/step - loss: 0.2253 - val_loss: 0.9405\n",
      "Epoch 58/100\n",
      "6/6 [==============================] - 0s 24ms/step - loss: 0.2538 - val_loss: 1.6815\n",
      "Epoch 59/100\n",
      "6/6 [==============================] - 0s 16ms/step - loss: 0.2174 - val_loss: 1.6043\n",
      "Epoch 60/100\n",
      "6/6 [==============================] - 0s 14ms/step - loss: 0.1592 - val_loss: 1.7493\n",
      "Epoch 61/100\n",
      "6/6 [==============================] - 0s 16ms/step - loss: 0.2353 - val_loss: 1.5167\n",
      "Epoch 62/100\n",
      "6/6 [==============================] - 0s 19ms/step - loss: 0.1781 - val_loss: 0.8447\n",
      "Epoch 63/100\n",
      "6/6 [==============================] - 0s 19ms/step - loss: 0.1348 - val_loss: 0.5904\n",
      "Epoch 64/100\n",
      "6/6 [==============================] - 0s 19ms/step - loss: 0.2009 - val_loss: 2.8494\n",
      "Epoch 65/100\n",
      "6/6 [==============================] - 0s 15ms/step - loss: 0.3725 - val_loss: 0.8213\n",
      "Epoch 66/100\n",
      "6/6 [==============================] - 0s 16ms/step - loss: 0.4288 - val_loss: 2.1633\n",
      "Epoch 67/100\n",
      "6/6 [==============================] - 0s 16ms/step - loss: 0.2094 - val_loss: 0.6963\n",
      "Epoch 68/100\n",
      "6/6 [==============================] - 0s 16ms/step - loss: 0.2290 - val_loss: 2.7390\n",
      "Epoch 69/100\n",
      "6/6 [==============================] - 0s 14ms/step - loss: 0.4435 - val_loss: 1.3122\n",
      "Epoch 70/100\n",
      "6/6 [==============================] - 0s 15ms/step - loss: 0.4227 - val_loss: 2.8557\n",
      "Epoch 71/100\n",
      "6/6 [==============================] - 0s 14ms/step - loss: 0.2301 - val_loss: 2.0250\n",
      "Epoch 72/100\n",
      "6/6 [==============================] - 0s 15ms/step - loss: 0.1863 - val_loss: 1.4852\n",
      "Epoch 73/100\n",
      "6/6 [==============================] - 0s 14ms/step - loss: 0.1630 - val_loss: 2.0089\n",
      "Epoch 74/100\n",
      "6/6 [==============================] - 0s 14ms/step - loss: 0.1825 - val_loss: 0.6889\n",
      "Epoch 75/100\n",
      "6/6 [==============================] - 0s 17ms/step - loss: 0.1929 - val_loss: 3.1523\n",
      "Epoch 76/100\n",
      "6/6 [==============================] - 0s 17ms/step - loss: 0.2866 - val_loss: 1.5282\n",
      "Epoch 77/100\n",
      "6/6 [==============================] - 0s 18ms/step - loss: 0.3317 - val_loss: 1.2028\n",
      "Epoch 78/100\n",
      "6/6 [==============================] - 0s 17ms/step - loss: 0.2986 - val_loss: 1.1676\n",
      "Epoch 79/100\n",
      "6/6 [==============================] - 0s 15ms/step - loss: 0.2267 - val_loss: 3.9066\n",
      "Epoch 80/100\n",
      "6/6 [==============================] - 0s 15ms/step - loss: 0.3512 - val_loss: 0.8530\n",
      "Epoch 81/100\n",
      "6/6 [==============================] - 0s 16ms/step - loss: 0.6031 - val_loss: 1.4871\n",
      "Epoch 82/100\n",
      "6/6 [==============================] - 0s 18ms/step - loss: 0.4539 - val_loss: 6.2890\n",
      "Epoch 83/100\n"
     ]
    },
    {
     "name": "stdout",
     "output_type": "stream",
     "text": [
      "6/6 [==============================] - 0s 18ms/step - loss: 0.8893 - val_loss: 0.7255\n",
      "Epoch 84/100\n",
      "6/6 [==============================] - 0s 17ms/step - loss: 0.5635 - val_loss: 1.7658\n",
      "Epoch 85/100\n",
      "6/6 [==============================] - 0s 15ms/step - loss: 0.1814 - val_loss: 3.0564\n",
      "Epoch 86/100\n",
      "6/6 [==============================] - 0s 17ms/step - loss: 0.2970 - val_loss: 1.3798\n",
      "Epoch 87/100\n",
      "6/6 [==============================] - 0s 17ms/step - loss: 0.1431 - val_loss: 1.1047\n",
      "Epoch 88/100\n",
      "6/6 [==============================] - 0s 15ms/step - loss: 0.1817 - val_loss: 2.0653\n",
      "Epoch 89/100\n",
      "6/6 [==============================] - 0s 15ms/step - loss: 0.2005 - val_loss: 0.8228\n",
      "Epoch 90/100\n",
      "6/6 [==============================] - 0s 16ms/step - loss: 0.2317 - val_loss: 1.3836\n",
      "Epoch 91/100\n",
      "6/6 [==============================] - 0s 16ms/step - loss: 0.1643 - val_loss: 0.4594\n",
      "Epoch 92/100\n",
      "6/6 [==============================] - 0s 16ms/step - loss: 0.2790 - val_loss: 0.4850\n",
      "Epoch 93/100\n",
      "6/6 [==============================] - 0s 17ms/step - loss: 0.2661 - val_loss: 1.2063\n",
      "Epoch 94/100\n",
      "6/6 [==============================] - 0s 15ms/step - loss: 0.2090 - val_loss: 0.9478\n",
      "Epoch 95/100\n",
      "6/6 [==============================] - 0s 15ms/step - loss: 0.3733 - val_loss: 0.6406\n",
      "Epoch 96/100\n",
      "6/6 [==============================] - 0s 17ms/step - loss: 0.3342 - val_loss: 0.9715\n",
      "Epoch 97/100\n",
      "6/6 [==============================] - 0s 17ms/step - loss: 0.2988 - val_loss: 1.3133\n",
      "Epoch 98/100\n",
      "6/6 [==============================] - 0s 16ms/step - loss: 0.2542 - val_loss: 0.8992\n",
      "Epoch 99/100\n",
      "6/6 [==============================] - 0s 14ms/step - loss: 0.1088 - val_loss: 0.8009\n",
      "Epoch 100/100\n",
      "6/6 [==============================] - 0s 14ms/step - loss: 0.1881 - val_loss: 1.8120\n"
     ]
    }
   ],
   "source": [
    "history = model.fit(X, Y, epochs=100, validation_split=0.2, verbose=1, batch_size=3)"
   ]
  },
  {
   "cell_type": "code",
   "execution_count": 33,
   "metadata": {},
   "outputs": [
    {
     "data": {
      "text/plain": [
       "array([[[314.2104 ],\n",
       "        [321.43964],\n",
       "        [327.7484 ]]], dtype=float32)"
      ]
     },
     "execution_count": 33,
     "metadata": {},
     "output_type": "execute_result"
    }
   ],
   "source": [
    "test_input = array([300, 305, 310])\n",
    "test_input = test_input.reshape((1, 3, 1))\n",
    "model.predict(test_input, verbose=0)"
   ]
  }
 ],
 "metadata": {
  "kernelspec": {
   "display_name": "Python 3",
   "language": "python",
   "name": "python3"
  },
  "language_info": {
   "codemirror_mode": {
    "name": "ipython",
    "version": 3
   },
   "file_extension": ".py",
   "mimetype": "text/x-python",
   "name": "python",
   "nbconvert_exporter": "python",
   "pygments_lexer": "ipython3",
   "version": "3.6.9"
  }
 },
 "nbformat": 4,
 "nbformat_minor": 2
}
